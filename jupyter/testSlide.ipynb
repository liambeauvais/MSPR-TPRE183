{
 "cells": [
  {
   "cell_type": "markdown",
   "id": "49c2f458-5bd6-4390-8340-57a17fd69b77",
   "metadata": {},
   "source": [
    "# WESH LA ZONE"
   ]
  },
  {
   "cell_type": "code",
   "execution_count": 1,
   "id": "52d42d22-9102-4723-bee8-d5767d86eb4a",
   "metadata": {},
   "outputs": [
    {
     "name": "stdout",
     "output_type": "stream",
     "text": [
      "coucou c'est un test\n"
     ]
    }
   ],
   "source": [
    "print(\"coucou c'est un test\")"
   ]
  },
  {
   "cell_type": "code",
   "execution_count": null,
   "id": "66876ae6-acff-4f7b-a160-2001db491ac5",
   "metadata": {},
   "outputs": [],
   "source": []
  }
 ],
 "metadata": {
  "kernelspec": {
   "display_name": "Python 3 (ipykernel)",
   "language": "python",
   "name": "python3"
  },
  "language_info": {
   "codemirror_mode": {
    "name": "ipython",
    "version": 3
   },
   "file_extension": ".py",
   "mimetype": "text/x-python",
   "name": "python",
   "nbconvert_exporter": "python",
   "pygments_lexer": "ipython3",
   "version": "3.11.4"
  }
 },
 "nbformat": 4,
 "nbformat_minor": 5
}
